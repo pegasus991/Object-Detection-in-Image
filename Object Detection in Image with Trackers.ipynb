{
 "cells": [
  {
   "cell_type": "code",
   "execution_count": 4,
   "metadata": {},
   "outputs": [],
   "source": [
    "import cv2\n",
    "import numpy as np\n",
    "img=cv2.imread(r\"C:\\Users\\ultra_instinct\\Downloads\\lion.jpg\")\n",
    "img=cv2.resize(img,(400,400))\n",
    "\n",
    "def nothing(x):\n",
    "    pass\n",
    "cv2.namedWindow(\"Colour Adjustments\")\n",
    "cv2.resizeWindow(\"Colour Adjustments\",(400,400))\n",
    "cv2.createTrackbar(\"Lower_H\",\"Colour Adjustments\",0,255,nothing)\n",
    "cv2.createTrackbar(\"Lower_S\",\"Colour Adjustments\",0,255,nothing)\n",
    "cv2.createTrackbar(\"Lower_V\",\"Colour Adjustments\",0,255,nothing)\n",
    "cv2.createTrackbar(\"Upper_H\",\"Colour Adjustments\",255,255,nothing)#Range of trackbar is from 0 to 255 but we want initailly\n",
    "cv2.createTrackbar(\"Upper_S\",\"Colour Adjustments\",255,255,nothing)#the trackbar to be placed at 255 from there we can change\n",
    "cv2.createTrackbar(\"Upper_V\",\"Colour Adjustments\",255,255,nothing)#it\n",
    "\n",
    "while(True):\n",
    "    hsv=cv2.cvtColor(img,cv2.COLOR_BGR2HSV)\n",
    "    \n",
    "    l_h=cv2.getTrackbarPos(\"Lower_H\",\"Colour Adjustments\")\n",
    "    l_s=cv2.getTrackbarPos(\"Lower_S\",\"Colour Adjustments\")\n",
    "    l_v=cv2.getTrackbarPos(\"Lower_V\",\"Colour Adjustments\")\n",
    "    \n",
    "    u_h=cv2.getTrackbarPos(\"Upper_H\",\"Colour Adjustments\")\n",
    "    u_s=cv2.getTrackbarPos(\"Upper_S\",\"Colour Adjustments\")\n",
    "    u_v=cv2.getTrackbarPos(\"Upper_V\",\"Colour Adjustments\")\n",
    "    \n",
    "    lower_bound=np.array([l_h,l_s,l_v])\n",
    "    upper_bound=np.array([u_h,u_s,u_v])\n",
    "    \n",
    "    mask=cv2.inRange(hsv,lower_bound,upper_bound) #Create mask\n",
    "    \n",
    "    res=cv2.bitwise_and(img,img,mask=mask)\n",
    "    \n",
    "    cv2.imshow(\"Original\",img)\n",
    "    cv2.imshow(\"Mask\",mask)\n",
    "    cv2.imshow(\"Res\",res)\n",
    "    if(cv2.waitKey(1) & 0xFF==27):\n",
    "        break\n",
    "        \n",
    "cv2.destroyAllWindows()"
   ]
  },
  {
   "cell_type": "code",
   "execution_count": null,
   "metadata": {},
   "outputs": [],
   "source": []
  }
 ],
 "metadata": {
  "kernelspec": {
   "display_name": "Python 3",
   "language": "python",
   "name": "python3"
  },
  "language_info": {
   "codemirror_mode": {
    "name": "ipython",
    "version": 3
   },
   "file_extension": ".py",
   "mimetype": "text/x-python",
   "name": "python",
   "nbconvert_exporter": "python",
   "pygments_lexer": "ipython3",
   "version": "3.8.3"
  }
 },
 "nbformat": 4,
 "nbformat_minor": 4
}
